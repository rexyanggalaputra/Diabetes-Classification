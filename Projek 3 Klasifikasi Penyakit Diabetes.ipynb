{
 "cells": [
  {
   "cell_type": "markdown",
   "id": "43042357",
   "metadata": {},
   "source": [
    "# Mengimpor datasets"
   ]
  },
  {
   "cell_type": "code",
   "execution_count": 1,
   "id": "787ce9f4",
   "metadata": {},
   "outputs": [],
   "source": [
    "# Import library\n",
    "\n",
    "import pandas as pd\n",
    "import numpy as np\n",
    "\n",
    "import warnings\n",
    "warnings.filterwarnings('ignore')"
   ]
  },
  {
   "cell_type": "code",
   "execution_count": 2,
   "id": "7607d26e",
   "metadata": {},
   "outputs": [],
   "source": [
    "df = pd.read_csv('diabetes.csv')  # membaca dataframe"
   ]
  },
  {
   "cell_type": "code",
   "execution_count": 3,
   "id": "158c048b",
   "metadata": {},
   "outputs": [
    {
     "data": {
      "text/html": [
       "<div>\n",
       "<style scoped>\n",
       "    .dataframe tbody tr th:only-of-type {\n",
       "        vertical-align: middle;\n",
       "    }\n",
       "\n",
       "    .dataframe tbody tr th {\n",
       "        vertical-align: top;\n",
       "    }\n",
       "\n",
       "    .dataframe thead th {\n",
       "        text-align: right;\n",
       "    }\n",
       "</style>\n",
       "<table border=\"1\" class=\"dataframe\">\n",
       "  <thead>\n",
       "    <tr style=\"text-align: right;\">\n",
       "      <th></th>\n",
       "      <th>patient_number</th>\n",
       "      <th>cholesterol</th>\n",
       "      <th>glucose</th>\n",
       "      <th>hdl_chol</th>\n",
       "      <th>chol_hdl_ratio</th>\n",
       "      <th>age</th>\n",
       "      <th>gender</th>\n",
       "      <th>height</th>\n",
       "      <th>weight</th>\n",
       "      <th>bmi</th>\n",
       "      <th>systolic_bp</th>\n",
       "      <th>diastolic_bp</th>\n",
       "      <th>waist</th>\n",
       "      <th>hip</th>\n",
       "      <th>waist_hip_ratio</th>\n",
       "      <th>diabetes</th>\n",
       "    </tr>\n",
       "  </thead>\n",
       "  <tbody>\n",
       "    <tr>\n",
       "      <th>0</th>\n",
       "      <td>1</td>\n",
       "      <td>193</td>\n",
       "      <td>77</td>\n",
       "      <td>49</td>\n",
       "      <td>3,9</td>\n",
       "      <td>19</td>\n",
       "      <td>female</td>\n",
       "      <td>61</td>\n",
       "      <td>119</td>\n",
       "      <td>22,5</td>\n",
       "      <td>118</td>\n",
       "      <td>70</td>\n",
       "      <td>32</td>\n",
       "      <td>38</td>\n",
       "      <td>0,84</td>\n",
       "      <td>No diabetes</td>\n",
       "    </tr>\n",
       "    <tr>\n",
       "      <th>1</th>\n",
       "      <td>2</td>\n",
       "      <td>146</td>\n",
       "      <td>79</td>\n",
       "      <td>41</td>\n",
       "      <td>3,6</td>\n",
       "      <td>19</td>\n",
       "      <td>female</td>\n",
       "      <td>60</td>\n",
       "      <td>135</td>\n",
       "      <td>26,4</td>\n",
       "      <td>108</td>\n",
       "      <td>58</td>\n",
       "      <td>33</td>\n",
       "      <td>40</td>\n",
       "      <td>0,83</td>\n",
       "      <td>No diabetes</td>\n",
       "    </tr>\n",
       "    <tr>\n",
       "      <th>2</th>\n",
       "      <td>3</td>\n",
       "      <td>217</td>\n",
       "      <td>75</td>\n",
       "      <td>54</td>\n",
       "      <td>4</td>\n",
       "      <td>20</td>\n",
       "      <td>female</td>\n",
       "      <td>67</td>\n",
       "      <td>187</td>\n",
       "      <td>29,3</td>\n",
       "      <td>110</td>\n",
       "      <td>72</td>\n",
       "      <td>40</td>\n",
       "      <td>45</td>\n",
       "      <td>0,89</td>\n",
       "      <td>No diabetes</td>\n",
       "    </tr>\n",
       "    <tr>\n",
       "      <th>3</th>\n",
       "      <td>4</td>\n",
       "      <td>226</td>\n",
       "      <td>97</td>\n",
       "      <td>70</td>\n",
       "      <td>3,2</td>\n",
       "      <td>20</td>\n",
       "      <td>female</td>\n",
       "      <td>64</td>\n",
       "      <td>114</td>\n",
       "      <td>19,6</td>\n",
       "      <td>122</td>\n",
       "      <td>64</td>\n",
       "      <td>31</td>\n",
       "      <td>39</td>\n",
       "      <td>0,79</td>\n",
       "      <td>No diabetes</td>\n",
       "    </tr>\n",
       "    <tr>\n",
       "      <th>4</th>\n",
       "      <td>5</td>\n",
       "      <td>164</td>\n",
       "      <td>91</td>\n",
       "      <td>67</td>\n",
       "      <td>2,4</td>\n",
       "      <td>20</td>\n",
       "      <td>female</td>\n",
       "      <td>70</td>\n",
       "      <td>141</td>\n",
       "      <td>20,2</td>\n",
       "      <td>122</td>\n",
       "      <td>86</td>\n",
       "      <td>32</td>\n",
       "      <td>39</td>\n",
       "      <td>0,82</td>\n",
       "      <td>No diabetes</td>\n",
       "    </tr>\n",
       "  </tbody>\n",
       "</table>\n",
       "</div>"
      ],
      "text/plain": [
       "   patient_number  cholesterol  glucose  hdl_chol chol_hdl_ratio  age  gender  \\\n",
       "0               1          193       77        49            3,9   19  female   \n",
       "1               2          146       79        41            3,6   19  female   \n",
       "2               3          217       75        54              4   20  female   \n",
       "3               4          226       97        70            3,2   20  female   \n",
       "4               5          164       91        67            2,4   20  female   \n",
       "\n",
       "   height  weight   bmi  systolic_bp  diastolic_bp  waist  hip  \\\n",
       "0      61     119  22,5          118            70     32   38   \n",
       "1      60     135  26,4          108            58     33   40   \n",
       "2      67     187  29,3          110            72     40   45   \n",
       "3      64     114  19,6          122            64     31   39   \n",
       "4      70     141  20,2          122            86     32   39   \n",
       "\n",
       "  waist_hip_ratio     diabetes  \n",
       "0            0,84  No diabetes  \n",
       "1            0,83  No diabetes  \n",
       "2            0,89  No diabetes  \n",
       "3            0,79  No diabetes  \n",
       "4            0,82  No diabetes  "
      ]
     },
     "execution_count": 3,
     "metadata": {},
     "output_type": "execute_result"
    }
   ],
   "source": [
    "df.head()"
   ]
  },
  {
   "cell_type": "markdown",
   "id": "0611fd9d",
   "metadata": {},
   "source": [
    "# Preprocessing data"
   ]
  },
  {
   "cell_type": "code",
   "execution_count": 4,
   "id": "26038a5e",
   "metadata": {},
   "outputs": [
    {
     "data": {
      "text/plain": [
       "patient_number     0\n",
       "cholesterol        0\n",
       "glucose            0\n",
       "hdl_chol           0\n",
       "chol_hdl_ratio     0\n",
       "age                0\n",
       "gender             0\n",
       "height             0\n",
       "weight             0\n",
       "bmi                0\n",
       "systolic_bp        0\n",
       "diastolic_bp       0\n",
       "waist              0\n",
       "hip                0\n",
       "waist_hip_ratio    0\n",
       "diabetes           0\n",
       "dtype: int64"
      ]
     },
     "execution_count": 4,
     "metadata": {},
     "output_type": "execute_result"
    }
   ],
   "source": [
    "df.isna().sum()  # cek missing value"
   ]
  },
  {
   "cell_type": "code",
   "execution_count": 5,
   "id": "d0a071d5",
   "metadata": {},
   "outputs": [
    {
     "data": {
      "text/plain": [
       "(390, 16)"
      ]
     },
     "execution_count": 5,
     "metadata": {},
     "output_type": "execute_result"
    }
   ],
   "source": [
    "df.shape"
   ]
  },
  {
   "cell_type": "code",
   "execution_count": 6,
   "id": "bb0a2769",
   "metadata": {},
   "outputs": [
    {
     "name": "stdout",
     "output_type": "stream",
     "text": [
      "<class 'pandas.core.frame.DataFrame'>\n",
      "RangeIndex: 390 entries, 0 to 389\n",
      "Data columns (total 16 columns):\n",
      " #   Column           Non-Null Count  Dtype \n",
      "---  ------           --------------  ----- \n",
      " 0   patient_number   390 non-null    int64 \n",
      " 1   cholesterol      390 non-null    int64 \n",
      " 2   glucose          390 non-null    int64 \n",
      " 3   hdl_chol         390 non-null    int64 \n",
      " 4   chol_hdl_ratio   390 non-null    object\n",
      " 5   age              390 non-null    int64 \n",
      " 6   gender           390 non-null    object\n",
      " 7   height           390 non-null    int64 \n",
      " 8   weight           390 non-null    int64 \n",
      " 9   bmi              390 non-null    object\n",
      " 10  systolic_bp      390 non-null    int64 \n",
      " 11  diastolic_bp     390 non-null    int64 \n",
      " 12  waist            390 non-null    int64 \n",
      " 13  hip              390 non-null    int64 \n",
      " 14  waist_hip_ratio  390 non-null    object\n",
      " 15  diabetes         390 non-null    object\n",
      "dtypes: int64(11), object(5)\n",
      "memory usage: 48.9+ KB\n"
     ]
    }
   ],
   "source": [
    "df.info()"
   ]
  },
  {
   "cell_type": "code",
   "execution_count": 7,
   "id": "cdcb6b3b",
   "metadata": {},
   "outputs": [],
   "source": [
    "df['chol_hdl_ratio']   = df['chol_hdl_ratio'].replace(',','.', regex=True)\n",
    "df['bmi']              = df['bmi'].replace(',','.', regex=True)\n",
    "df['waist_hip_ratio']  = df['waist_hip_ratio'].replace(',','.', regex=True)"
   ]
  },
  {
   "cell_type": "code",
   "execution_count": 8,
   "id": "76665ba7",
   "metadata": {},
   "outputs": [],
   "source": [
    "df['chol_hdl_ratio']   = df['chol_hdl_ratio'].astype(float)\n",
    "df['bmi']              = df['bmi'].astype(float)\n",
    "df['waist_hip_ratio']  = df['waist_hip_ratio'].astype(float)"
   ]
  },
  {
   "cell_type": "code",
   "execution_count": 9,
   "id": "18e3b976",
   "metadata": {},
   "outputs": [
    {
     "data": {
      "text/html": [
       "<div>\n",
       "<style scoped>\n",
       "    .dataframe tbody tr th:only-of-type {\n",
       "        vertical-align: middle;\n",
       "    }\n",
       "\n",
       "    .dataframe tbody tr th {\n",
       "        vertical-align: top;\n",
       "    }\n",
       "\n",
       "    .dataframe thead th {\n",
       "        text-align: right;\n",
       "    }\n",
       "</style>\n",
       "<table border=\"1\" class=\"dataframe\">\n",
       "  <thead>\n",
       "    <tr style=\"text-align: right;\">\n",
       "      <th></th>\n",
       "      <th>patient_number</th>\n",
       "      <th>cholesterol</th>\n",
       "      <th>glucose</th>\n",
       "      <th>hdl_chol</th>\n",
       "      <th>chol_hdl_ratio</th>\n",
       "      <th>age</th>\n",
       "      <th>gender</th>\n",
       "      <th>height</th>\n",
       "      <th>weight</th>\n",
       "      <th>bmi</th>\n",
       "      <th>systolic_bp</th>\n",
       "      <th>diastolic_bp</th>\n",
       "      <th>waist</th>\n",
       "      <th>hip</th>\n",
       "      <th>waist_hip_ratio</th>\n",
       "      <th>diabetes</th>\n",
       "    </tr>\n",
       "  </thead>\n",
       "  <tbody>\n",
       "    <tr>\n",
       "      <th>0</th>\n",
       "      <td>1</td>\n",
       "      <td>193</td>\n",
       "      <td>77</td>\n",
       "      <td>49</td>\n",
       "      <td>3.9</td>\n",
       "      <td>19</td>\n",
       "      <td>female</td>\n",
       "      <td>61</td>\n",
       "      <td>119</td>\n",
       "      <td>22.5</td>\n",
       "      <td>118</td>\n",
       "      <td>70</td>\n",
       "      <td>32</td>\n",
       "      <td>38</td>\n",
       "      <td>0.84</td>\n",
       "      <td>No diabetes</td>\n",
       "    </tr>\n",
       "    <tr>\n",
       "      <th>1</th>\n",
       "      <td>2</td>\n",
       "      <td>146</td>\n",
       "      <td>79</td>\n",
       "      <td>41</td>\n",
       "      <td>3.6</td>\n",
       "      <td>19</td>\n",
       "      <td>female</td>\n",
       "      <td>60</td>\n",
       "      <td>135</td>\n",
       "      <td>26.4</td>\n",
       "      <td>108</td>\n",
       "      <td>58</td>\n",
       "      <td>33</td>\n",
       "      <td>40</td>\n",
       "      <td>0.83</td>\n",
       "      <td>No diabetes</td>\n",
       "    </tr>\n",
       "    <tr>\n",
       "      <th>2</th>\n",
       "      <td>3</td>\n",
       "      <td>217</td>\n",
       "      <td>75</td>\n",
       "      <td>54</td>\n",
       "      <td>4.0</td>\n",
       "      <td>20</td>\n",
       "      <td>female</td>\n",
       "      <td>67</td>\n",
       "      <td>187</td>\n",
       "      <td>29.3</td>\n",
       "      <td>110</td>\n",
       "      <td>72</td>\n",
       "      <td>40</td>\n",
       "      <td>45</td>\n",
       "      <td>0.89</td>\n",
       "      <td>No diabetes</td>\n",
       "    </tr>\n",
       "    <tr>\n",
       "      <th>3</th>\n",
       "      <td>4</td>\n",
       "      <td>226</td>\n",
       "      <td>97</td>\n",
       "      <td>70</td>\n",
       "      <td>3.2</td>\n",
       "      <td>20</td>\n",
       "      <td>female</td>\n",
       "      <td>64</td>\n",
       "      <td>114</td>\n",
       "      <td>19.6</td>\n",
       "      <td>122</td>\n",
       "      <td>64</td>\n",
       "      <td>31</td>\n",
       "      <td>39</td>\n",
       "      <td>0.79</td>\n",
       "      <td>No diabetes</td>\n",
       "    </tr>\n",
       "    <tr>\n",
       "      <th>4</th>\n",
       "      <td>5</td>\n",
       "      <td>164</td>\n",
       "      <td>91</td>\n",
       "      <td>67</td>\n",
       "      <td>2.4</td>\n",
       "      <td>20</td>\n",
       "      <td>female</td>\n",
       "      <td>70</td>\n",
       "      <td>141</td>\n",
       "      <td>20.2</td>\n",
       "      <td>122</td>\n",
       "      <td>86</td>\n",
       "      <td>32</td>\n",
       "      <td>39</td>\n",
       "      <td>0.82</td>\n",
       "      <td>No diabetes</td>\n",
       "    </tr>\n",
       "  </tbody>\n",
       "</table>\n",
       "</div>"
      ],
      "text/plain": [
       "   patient_number  cholesterol  glucose  hdl_chol  chol_hdl_ratio  age  \\\n",
       "0               1          193       77        49             3.9   19   \n",
       "1               2          146       79        41             3.6   19   \n",
       "2               3          217       75        54             4.0   20   \n",
       "3               4          226       97        70             3.2   20   \n",
       "4               5          164       91        67             2.4   20   \n",
       "\n",
       "   gender  height  weight   bmi  systolic_bp  diastolic_bp  waist  hip  \\\n",
       "0  female      61     119  22.5          118            70     32   38   \n",
       "1  female      60     135  26.4          108            58     33   40   \n",
       "2  female      67     187  29.3          110            72     40   45   \n",
       "3  female      64     114  19.6          122            64     31   39   \n",
       "4  female      70     141  20.2          122            86     32   39   \n",
       "\n",
       "   waist_hip_ratio     diabetes  \n",
       "0             0.84  No diabetes  \n",
       "1             0.83  No diabetes  \n",
       "2             0.89  No diabetes  \n",
       "3             0.79  No diabetes  \n",
       "4             0.82  No diabetes  "
      ]
     },
     "execution_count": 9,
     "metadata": {},
     "output_type": "execute_result"
    }
   ],
   "source": [
    "df.head()"
   ]
  },
  {
   "cell_type": "code",
   "execution_count": 10,
   "id": "97eda9d9",
   "metadata": {},
   "outputs": [],
   "source": [
    "from sklearn.preprocessing import OneHotEncoder"
   ]
  },
  {
   "cell_type": "code",
   "execution_count": 11,
   "id": "b837cf89",
   "metadata": {},
   "outputs": [],
   "source": [
    "# Encode kolom label diabetes\n",
    "\n",
    "diabetes_encode = {'No diabetes':1, 'Diabetes':0}\n",
    "df['diabetes'] = df['diabetes'].map(diabetes_encode)"
   ]
  },
  {
   "cell_type": "code",
   "execution_count": 12,
   "id": "b0a8b55e",
   "metadata": {},
   "outputs": [],
   "source": [
    "# Encode kolom gender\n",
    "\n",
    "gender = df['gender'].values.reshape(-1,1)\n",
    "\n",
    "one_hot = OneHotEncoder()\n",
    "gender = one_hot.fit_transform(gender).toarray()"
   ]
  },
  {
   "cell_type": "code",
   "execution_count": 13,
   "id": "17ee7034",
   "metadata": {},
   "outputs": [
    {
     "data": {
      "text/plain": [
       "[array(['female', 'male'], dtype=object)]"
      ]
     },
     "execution_count": 13,
     "metadata": {},
     "output_type": "execute_result"
    }
   ],
   "source": [
    "one_hot.categories_"
   ]
  },
  {
   "cell_type": "code",
   "execution_count": 14,
   "id": "89aa057c",
   "metadata": {},
   "outputs": [],
   "source": [
    "df_gender = pd.DataFrame(gender, columns=[str(i) for i in range(gender.shape[1])])"
   ]
  },
  {
   "cell_type": "code",
   "execution_count": 15,
   "id": "0d19648a",
   "metadata": {},
   "outputs": [],
   "source": [
    "df = pd.concat([df_gender, df], 1)"
   ]
  },
  {
   "cell_type": "code",
   "execution_count": 16,
   "id": "187d613a",
   "metadata": {},
   "outputs": [],
   "source": [
    "df.drop(columns=['gender', 'patient_number'], axis=1, inplace=True)"
   ]
  },
  {
   "cell_type": "code",
   "execution_count": 17,
   "id": "a09797ee",
   "metadata": {},
   "outputs": [],
   "source": [
    "df = df.rename(columns = {'0' : 'female', '1' : 'male'})"
   ]
  },
  {
   "cell_type": "code",
   "execution_count": 18,
   "id": "880b0f67",
   "metadata": {},
   "outputs": [],
   "source": [
    "df['female'] = df['female'].astype(int)\n",
    "df['male']   = df['male'].astype(int)"
   ]
  },
  {
   "cell_type": "code",
   "execution_count": 19,
   "id": "88455cf3",
   "metadata": {},
   "outputs": [
    {
     "data": {
      "text/html": [
       "<div>\n",
       "<style scoped>\n",
       "    .dataframe tbody tr th:only-of-type {\n",
       "        vertical-align: middle;\n",
       "    }\n",
       "\n",
       "    .dataframe tbody tr th {\n",
       "        vertical-align: top;\n",
       "    }\n",
       "\n",
       "    .dataframe thead th {\n",
       "        text-align: right;\n",
       "    }\n",
       "</style>\n",
       "<table border=\"1\" class=\"dataframe\">\n",
       "  <thead>\n",
       "    <tr style=\"text-align: right;\">\n",
       "      <th></th>\n",
       "      <th>female</th>\n",
       "      <th>male</th>\n",
       "      <th>cholesterol</th>\n",
       "      <th>glucose</th>\n",
       "      <th>hdl_chol</th>\n",
       "      <th>chol_hdl_ratio</th>\n",
       "      <th>age</th>\n",
       "      <th>height</th>\n",
       "      <th>weight</th>\n",
       "      <th>bmi</th>\n",
       "      <th>systolic_bp</th>\n",
       "      <th>diastolic_bp</th>\n",
       "      <th>waist</th>\n",
       "      <th>hip</th>\n",
       "      <th>waist_hip_ratio</th>\n",
       "      <th>diabetes</th>\n",
       "    </tr>\n",
       "  </thead>\n",
       "  <tbody>\n",
       "    <tr>\n",
       "      <th>0</th>\n",
       "      <td>1</td>\n",
       "      <td>0</td>\n",
       "      <td>193</td>\n",
       "      <td>77</td>\n",
       "      <td>49</td>\n",
       "      <td>3.9</td>\n",
       "      <td>19</td>\n",
       "      <td>61</td>\n",
       "      <td>119</td>\n",
       "      <td>22.5</td>\n",
       "      <td>118</td>\n",
       "      <td>70</td>\n",
       "      <td>32</td>\n",
       "      <td>38</td>\n",
       "      <td>0.84</td>\n",
       "      <td>1</td>\n",
       "    </tr>\n",
       "    <tr>\n",
       "      <th>1</th>\n",
       "      <td>1</td>\n",
       "      <td>0</td>\n",
       "      <td>146</td>\n",
       "      <td>79</td>\n",
       "      <td>41</td>\n",
       "      <td>3.6</td>\n",
       "      <td>19</td>\n",
       "      <td>60</td>\n",
       "      <td>135</td>\n",
       "      <td>26.4</td>\n",
       "      <td>108</td>\n",
       "      <td>58</td>\n",
       "      <td>33</td>\n",
       "      <td>40</td>\n",
       "      <td>0.83</td>\n",
       "      <td>1</td>\n",
       "    </tr>\n",
       "    <tr>\n",
       "      <th>2</th>\n",
       "      <td>1</td>\n",
       "      <td>0</td>\n",
       "      <td>217</td>\n",
       "      <td>75</td>\n",
       "      <td>54</td>\n",
       "      <td>4.0</td>\n",
       "      <td>20</td>\n",
       "      <td>67</td>\n",
       "      <td>187</td>\n",
       "      <td>29.3</td>\n",
       "      <td>110</td>\n",
       "      <td>72</td>\n",
       "      <td>40</td>\n",
       "      <td>45</td>\n",
       "      <td>0.89</td>\n",
       "      <td>1</td>\n",
       "    </tr>\n",
       "    <tr>\n",
       "      <th>3</th>\n",
       "      <td>1</td>\n",
       "      <td>0</td>\n",
       "      <td>226</td>\n",
       "      <td>97</td>\n",
       "      <td>70</td>\n",
       "      <td>3.2</td>\n",
       "      <td>20</td>\n",
       "      <td>64</td>\n",
       "      <td>114</td>\n",
       "      <td>19.6</td>\n",
       "      <td>122</td>\n",
       "      <td>64</td>\n",
       "      <td>31</td>\n",
       "      <td>39</td>\n",
       "      <td>0.79</td>\n",
       "      <td>1</td>\n",
       "    </tr>\n",
       "    <tr>\n",
       "      <th>4</th>\n",
       "      <td>1</td>\n",
       "      <td>0</td>\n",
       "      <td>164</td>\n",
       "      <td>91</td>\n",
       "      <td>67</td>\n",
       "      <td>2.4</td>\n",
       "      <td>20</td>\n",
       "      <td>70</td>\n",
       "      <td>141</td>\n",
       "      <td>20.2</td>\n",
       "      <td>122</td>\n",
       "      <td>86</td>\n",
       "      <td>32</td>\n",
       "      <td>39</td>\n",
       "      <td>0.82</td>\n",
       "      <td>1</td>\n",
       "    </tr>\n",
       "  </tbody>\n",
       "</table>\n",
       "</div>"
      ],
      "text/plain": [
       "   female  male  cholesterol  glucose  hdl_chol  chol_hdl_ratio  age  height  \\\n",
       "0       1     0          193       77        49             3.9   19      61   \n",
       "1       1     0          146       79        41             3.6   19      60   \n",
       "2       1     0          217       75        54             4.0   20      67   \n",
       "3       1     0          226       97        70             3.2   20      64   \n",
       "4       1     0          164       91        67             2.4   20      70   \n",
       "\n",
       "   weight   bmi  systolic_bp  diastolic_bp  waist  hip  waist_hip_ratio  \\\n",
       "0     119  22.5          118            70     32   38             0.84   \n",
       "1     135  26.4          108            58     33   40             0.83   \n",
       "2     187  29.3          110            72     40   45             0.89   \n",
       "3     114  19.6          122            64     31   39             0.79   \n",
       "4     141  20.2          122            86     32   39             0.82   \n",
       "\n",
       "   diabetes  \n",
       "0         1  \n",
       "1         1  \n",
       "2         1  \n",
       "3         1  \n",
       "4         1  "
      ]
     },
     "execution_count": 19,
     "metadata": {},
     "output_type": "execute_result"
    }
   ],
   "source": [
    "df.head()"
   ]
  },
  {
   "cell_type": "code",
   "execution_count": 20,
   "id": "8d6d3172",
   "metadata": {},
   "outputs": [
    {
     "name": "stdout",
     "output_type": "stream",
     "text": [
      "<class 'pandas.core.frame.DataFrame'>\n",
      "RangeIndex: 390 entries, 0 to 389\n",
      "Data columns (total 16 columns):\n",
      " #   Column           Non-Null Count  Dtype  \n",
      "---  ------           --------------  -----  \n",
      " 0   female           390 non-null    int32  \n",
      " 1   male             390 non-null    int32  \n",
      " 2   cholesterol      390 non-null    int64  \n",
      " 3   glucose          390 non-null    int64  \n",
      " 4   hdl_chol         390 non-null    int64  \n",
      " 5   chol_hdl_ratio   390 non-null    float64\n",
      " 6   age              390 non-null    int64  \n",
      " 7   height           390 non-null    int64  \n",
      " 8   weight           390 non-null    int64  \n",
      " 9   bmi              390 non-null    float64\n",
      " 10  systolic_bp      390 non-null    int64  \n",
      " 11  diastolic_bp     390 non-null    int64  \n",
      " 12  waist            390 non-null    int64  \n",
      " 13  hip              390 non-null    int64  \n",
      " 14  waist_hip_ratio  390 non-null    float64\n",
      " 15  diabetes         390 non-null    int64  \n",
      "dtypes: float64(3), int32(2), int64(11)\n",
      "memory usage: 45.8 KB\n"
     ]
    }
   ],
   "source": [
    "df.info()"
   ]
  },
  {
   "cell_type": "code",
   "execution_count": 21,
   "id": "360e67db",
   "metadata": {
    "scrolled": true
   },
   "outputs": [
    {
     "data": {
      "text/plain": [
       "1    330\n",
       "0     60\n",
       "Name: diabetes, dtype: int64"
      ]
     },
     "execution_count": 21,
     "metadata": {},
     "output_type": "execute_result"
    }
   ],
   "source": [
    "df.diabetes.value_counts()"
   ]
  },
  {
   "cell_type": "markdown",
   "id": "682bec91",
   "metadata": {},
   "source": [
    "# Membagi data"
   ]
  },
  {
   "cell_type": "code",
   "execution_count": 22,
   "id": "48de72b1",
   "metadata": {},
   "outputs": [],
   "source": [
    "X = df.drop('diabetes', 1)\n",
    "y = df['diabetes']"
   ]
  },
  {
   "cell_type": "markdown",
   "id": "11396b3d",
   "metadata": {},
   "source": [
    "# Normalisasi"
   ]
  },
  {
   "cell_type": "code",
   "execution_count": 23,
   "id": "6bf3e5d0",
   "metadata": {},
   "outputs": [],
   "source": [
    "# from sklearn.preprocessing import MinMaxScaler"
   ]
  },
  {
   "cell_type": "code",
   "execution_count": 24,
   "id": "73146070",
   "metadata": {
    "scrolled": true
   },
   "outputs": [],
   "source": [
    "# X_nump = np.array(X)\n",
    "# scaler = MinMaxScaler()\n",
    "\n",
    "# scaled = scaler.fit_transform(X_nump)\n",
    "# scaled = pd.DataFrame(scaled,columns= ['female', 'male', 'cholesterol', 'glucose', 'hdl_chol', 'chol_hdl_ratio', 'age', 'height', 'weight', 'bmi', 'systolic_bp', 'diastolic_bp', 'waist', 'hip', 'waist_hip_ratio'])\n",
    "# scaled.head()"
   ]
  },
  {
   "cell_type": "code",
   "execution_count": 25,
   "id": "9f04b565",
   "metadata": {},
   "outputs": [],
   "source": [
    "import matplotlib.pyplot as plt\n",
    "import seaborn as sns"
   ]
  },
  {
   "cell_type": "code",
   "execution_count": 26,
   "id": "ee2243bf",
   "metadata": {},
   "outputs": [],
   "source": [
    "# fig,(ax1, ax2) = plt.subplots(ncols = 2, figsize = (10,8))\n",
    "\n",
    "# ax1.set_title('Before min-max scaling')\n",
    "# sns.kdeplot(X['cholesterol'], ax=ax1)\n",
    "# sns.kdeplot(X['glucose'], ax=ax1)\n",
    "# sns.kdeplot(X['hdl_chol'], ax=ax1)\n",
    "# sns.kdeplot(X['chol_hdl_ratio'], ax=ax1)\n",
    "\n",
    "# ax2.set_title('After min-max scaling')\n",
    "# sns.kdeplot(scaled['cholesterol'], ax=ax2)\n",
    "# sns.kdeplot(scaled['glucose'], ax=ax2)\n",
    "# sns.kdeplot(scaled['hdl_chol'], ax=ax2)\n",
    "# sns.kdeplot(scaled['chol_hdl_ratio'], ax=ax2)\n",
    "\n",
    "# plt.show()"
   ]
  },
  {
   "cell_type": "markdown",
   "id": "c90bca87",
   "metadata": {},
   "source": [
    "# Testing dan Training"
   ]
  },
  {
   "cell_type": "code",
   "execution_count": 27,
   "id": "9b335bfa",
   "metadata": {},
   "outputs": [],
   "source": [
    "from sklearn.model_selection import train_test_split"
   ]
  },
  {
   "cell_type": "code",
   "execution_count": 28,
   "id": "9d20eca8",
   "metadata": {},
   "outputs": [],
   "source": [
    "# X = scaled\n",
    "# y = df['diabetes']"
   ]
  },
  {
   "cell_type": "code",
   "execution_count": 29,
   "id": "bee6626c",
   "metadata": {},
   "outputs": [],
   "source": [
    "X_train, X_test, y_train, y_test = train_test_split( X, y, test_size=0.1, random_state=42)"
   ]
  },
  {
   "cell_type": "markdown",
   "id": "9e049b98",
   "metadata": {},
   "source": [
    "# Feature selection"
   ]
  },
  {
   "cell_type": "markdown",
   "id": "706ec104",
   "metadata": {},
   "source": [
    "## ------K Best------"
   ]
  },
  {
   "cell_type": "code",
   "execution_count": 30,
   "id": "e27c296f",
   "metadata": {},
   "outputs": [],
   "source": [
    "from sklearn.feature_selection import f_classif, f_regression\n",
    "from sklearn.feature_selection import SelectKBest, SelectPercentile"
   ]
  },
  {
   "cell_type": "code",
   "execution_count": 31,
   "id": "d9f0cedd",
   "metadata": {},
   "outputs": [
    {
     "data": {
      "text/plain": [
       "(array([2.25276475e-02, 2.25276475e-02, 1.55508044e+01, 2.77209611e+02,\n",
       "        4.24384363e+00, 2.74961632e+01, 3.39491946e+01, 1.25443265e-01,\n",
       "        8.52903868e+00, 8.60481964e+00, 1.44043435e+01, 1.57823371e+00,\n",
       "        1.77256602e+01, 8.61202713e+00, 8.66356772e+00]),\n",
       " array([8.80778633e-01, 8.80778633e-01, 9.70829118e-05, 3.17009456e-46,\n",
       "        4.01338882e-02, 2.73392002e-07, 1.28638712e-08, 7.23418100e-01,\n",
       "        3.72250748e-03, 3.57436047e-03, 1.73816134e-04, 2.09855571e-01,\n",
       "        3.25026375e-05, 3.56058784e-03, 3.46366764e-03]))"
      ]
     },
     "execution_count": 31,
     "metadata": {},
     "output_type": "execute_result"
    }
   ],
   "source": [
    "univariate = f_classif(X_train, y_train)\n",
    "univariate"
   ]
  },
  {
   "cell_type": "code",
   "execution_count": 32,
   "id": "82684db6",
   "metadata": {},
   "outputs": [],
   "source": [
    "univariate = pd.Series(univariate[1])\n",
    "univariate.index = X_train.columns\n",
    "univariate.sort_values(ascending=False, inplace=True)"
   ]
  },
  {
   "cell_type": "code",
   "execution_count": 33,
   "id": "bbde9465",
   "metadata": {},
   "outputs": [
    {
     "data": {
      "text/plain": [
       "<AxesSubplot:>"
      ]
     },
     "execution_count": 33,
     "metadata": {},
     "output_type": "execute_result"
    },
    {
     "data": {
      "image/png": "[encoded data removed]",
      "text/plain": [
       "<Figure size 1440x576 with 1 Axes>"
      ]
     },
     "metadata": {
      "needs_background": "light"
     },
     "output_type": "display_data"
    }
   ],
   "source": [
    "univariate.sort_values(ascending=False).plot.bar(figsize=(20, 8))"
   ]
  },
  {
   "cell_type": "code",
   "execution_count": 34,
   "id": "e10d467c",
   "metadata": {},
   "outputs": [
    {
     "data": {
      "text/plain": [
       "Index(['cholesterol', 'glucose', 'hdl_chol', 'chol_hdl_ratio', 'age', 'weight',\n",
       "       'bmi', 'systolic_bp', 'waist', 'hip', 'waist_hip_ratio'],\n",
       "      dtype='object')"
      ]
     },
     "execution_count": 34,
     "metadata": {},
     "output_type": "execute_result"
    }
   ],
   "source": [
    "sel_ = SelectKBest(f_classif, k=11).fit(X_train, y_train)\n",
    "X_train.columns[sel_.get_support()]"
   ]
  },
  {
   "cell_type": "markdown",
   "id": "1747998f",
   "metadata": {},
   "source": [
    "## ------Korelasi------"
   ]
  },
  {
   "cell_type": "code",
   "execution_count": 35,
   "id": "bae451a7",
   "metadata": {},
   "outputs": [],
   "source": [
    "data = pd.concat([X,y],1)\n",
    "data = data.corr(method='pearson')"
   ]
  },
  {
   "cell_type": "code",
   "execution_count": 36,
   "id": "7da7a230",
   "metadata": {},
   "outputs": [
    {
     "data": {
      "text/plain": [
       "<AxesSubplot:>"
      ]
     },
     "execution_count": 36,
     "metadata": {},
     "output_type": "execute_result"
    },
    {
     "data": {
      "image/png": "[encoded data removed]",
      "text/plain": [
       "<Figure size 1152x1152 with 2 Axes>"
      ]
     },
     "metadata": {},
     "output_type": "display_data"
    }
   ],
   "source": [
    "sns.set(rc = {'figure.figsize':(16,16)})\n",
    "sns.heatmap(data, annot=True, fmt='.3g', vmax=1, vmin=-1, center=0, square=True)"
   ]
  },
  {
   "cell_type": "code",
   "execution_count": 37,
   "id": "fa31fc41",
   "metadata": {},
   "outputs": [
    {
     "data": {
      "text/plain": [
       "(351, 11)"
      ]
     },
     "execution_count": 37,
     "metadata": {},
     "output_type": "execute_result"
    }
   ],
   "source": [
    "X_train = sel_.transform(X_train)\n",
    "X_train.shape"
   ]
  },
  {
   "cell_type": "code",
   "execution_count": 38,
   "id": "d58172b8",
   "metadata": {},
   "outputs": [
    {
     "data": {
      "text/plain": [
       "(39, 11)"
      ]
     },
     "execution_count": 38,
     "metadata": {},
     "output_type": "execute_result"
    }
   ],
   "source": [
    "X_test = sel_.transform(X_test)\n",
    "X_test.shape"
   ]
  },
  {
   "cell_type": "markdown",
   "id": "73990916",
   "metadata": {},
   "source": [
    "# Mencari Parameter Optimal dengan Pipeline"
   ]
  },
  {
   "cell_type": "code",
   "execution_count": 39,
   "id": "d864b57f",
   "metadata": {},
   "outputs": [],
   "source": [
    "from sklearn.neighbors import KNeighborsClassifier\n",
    "from sklearn.naive_bayes import MultinomialNB\n",
    "from sklearn.tree import DecisionTreeClassifier\n",
    "from sklearn.linear_model import SGDClassifier\n",
    "from sklearn.linear_model import LogisticRegression\n",
    "\n",
    "from sklearn.model_selection import GridSearchCV\n",
    "from sklearn.pipeline import Pipeline"
   ]
  },
  {
   "cell_type": "markdown",
   "id": "4dcefd7b",
   "metadata": {},
   "source": [
    "## K-Nearest Neighbors"
   ]
  },
  {
   "cell_type": "code",
   "execution_count": 40,
   "id": "e5503c6e",
   "metadata": {},
   "outputs": [],
   "source": [
    "classifier_knn = Pipeline([\n",
    "    ('model', KNeighborsClassifier()),\n",
    "])"
   ]
  },
  {
   "cell_type": "code",
   "execution_count": 41,
   "id": "171b5efb",
   "metadata": {},
   "outputs": [
    {
     "data": {
      "text/plain": [
       "dict_keys(['memory', 'steps', 'verbose', 'model', 'model__algorithm', 'model__leaf_size', 'model__metric', 'model__metric_params', 'model__n_jobs', 'model__n_neighbors', 'model__p', 'model__weights'])"
      ]
     },
     "execution_count": 41,
     "metadata": {},
     "output_type": "execute_result"
    }
   ],
   "source": [
    "classifier_knn.get_params().keys()"
   ]
  },
  {
   "cell_type": "code",
   "execution_count": 42,
   "id": "ae481d17",
   "metadata": {},
   "outputs": [],
   "source": [
    "param_grid_knn = {             \n",
    "               'model__n_neighbors': [3, 5, 7, 9, 11, 13, 15],\n",
    "               'model__metric': ['euclidean', 'manhattan'],\n",
    "               'model__weights': ['uniform', 'distance']\n",
    "}"
   ]
  },
  {
   "cell_type": "code",
   "execution_count": 43,
   "id": "7645f765",
   "metadata": {},
   "outputs": [],
   "source": [
    "clf_knn = GridSearchCV(estimator=classifier_knn,           \n",
    "                      param_grid=param_grid_knn, \n",
    "                      cv=5,\n",
    "                      return_train_score=True,\n",
    "                      n_jobs=-1\n",
    "                  )"
   ]
  },
  {
   "cell_type": "code",
   "execution_count": 44,
   "id": "a388f3cc",
   "metadata": {},
   "outputs": [
    {
     "data": {
      "text/plain": [
       "GridSearchCV(cv=5,\n",
       "             estimator=Pipeline(steps=[('model', KNeighborsClassifier())]),\n",
       "             n_jobs=-1,\n",
       "             param_grid={'model__metric': ['euclidean', 'manhattan'],\n",
       "                         'model__n_neighbors': [3, 5, 7, 9, 11, 13, 15],\n",
       "                         'model__weights': ['uniform', 'distance']},\n",
       "             return_train_score=True)"
      ]
     },
     "execution_count": 44,
     "metadata": {},
     "output_type": "execute_result"
    }
   ],
   "source": [
    "clf_knn.fit(X_train, y_train)"
   ]
  },
  {
   "cell_type": "code",
   "execution_count": 45,
   "id": "8ac8aaf6",
   "metadata": {},
   "outputs": [
    {
     "name": "stdout",
     "output_type": "stream",
     "text": [
      "\n",
      "Best estimator:\n",
      "\n",
      "Pipeline(steps=[('model',\n",
      "                 KNeighborsClassifier(metric='manhattan', n_neighbors=7))])\n"
     ]
    }
   ],
   "source": [
    "print(\"\\nBest estimator:\")\n",
    "print()\n",
    "print(clf_knn.best_estimator_)"
   ]
  },
  {
   "cell_type": "code",
   "execution_count": 46,
   "id": "fe7f7b9f",
   "metadata": {},
   "outputs": [],
   "source": [
    "from sklearn.metrics import accuracy_score\n",
    "from sklearn.metrics import recall_score\n",
    "from sklearn.metrics import precision_score\n",
    "from sklearn.metrics import confusion_matrix"
   ]
  },
  {
   "cell_type": "code",
   "execution_count": 47,
   "id": "3b5d39b4",
   "metadata": {},
   "outputs": [
    {
     "name": "stdout",
     "output_type": "stream",
     "text": [
      "Accuracy Training set:  0.9344729344729344\n",
      "Accuracy Test set:  0.8974358974358975\n"
     ]
    }
   ],
   "source": [
    "y_pred_knn_train = clf_knn.predict(X_train)\n",
    "accuracy_knn_train = accuracy_score(y_train, y_pred_knn_train)\n",
    "print(\"Accuracy Training set: \", accuracy_knn_train)\n",
    "\n",
    "y_pred_knn_test = clf_knn.predict(X_test)\n",
    "accuracy_knn_test = accuracy_score(y_test, y_pred_knn_test)\n",
    "print(\"Accuracy Test set: \", accuracy_knn_test)"
   ]
  },
  {
   "cell_type": "code",
   "execution_count": 48,
   "id": "69fd8cb3",
   "metadata": {},
   "outputs": [
    {
     "name": "stdout",
     "output_type": "stream",
     "text": [
      "Recall Training set:  0.9344729344729344\n",
      "Recall Test set:  0.8974358974358975\n"
     ]
    }
   ],
   "source": [
    "recall_knn_train = recall_score(y_train, y_pred_knn_train, average='micro')\n",
    "print(\"Recall Training set: \", recall_knn_train)\n",
    "\n",
    "recall_knn_test = recall_score(y_test, y_pred_knn_test, average='micro')\n",
    "print(\"Recall Test set: \", recall_knn_test)"
   ]
  },
  {
   "cell_type": "code",
   "execution_count": 49,
   "id": "a9d9c0e5",
   "metadata": {},
   "outputs": [
    {
     "name": "stdout",
     "output_type": "stream",
     "text": [
      "Precision Training set:  0.9344729344729344\n",
      "Precision Test set:  0.8974358974358975\n"
     ]
    }
   ],
   "source": [
    "precision_knn_train = precision_score(y_train, y_pred_knn_train, average='micro')\n",
    "print(\"Precision Training set: \", precision_knn_train)\n",
    "\n",
    "precision_knn_test = precision_score(y_test, y_pred_knn_test, average='micro')\n",
    "print(\"Precision Test set: \", precision_knn_test)"
   ]
  },
  {
   "cell_type": "code",
   "execution_count": 50,
   "id": "8db76b5b",
   "metadata": {},
   "outputs": [
    {
     "data": {
      "image/png": "[encoded data removed]",
      "text/plain": [
       "<Figure size 360x360 with 2 Axes>"
      ]
     },
     "metadata": {},
     "output_type": "display_data"
    }
   ],
   "source": [
    "plt.figure(figsize=(5,5))\n",
    "sns.heatmap(confusion_matrix(y_test, y_pred_knn_test), annot=True, cmap = 'viridis', fmt='.0f')\n",
    "plt.xlabel(\"Predicted values\", fontdict = {'size':14}, labelpad = 10)\n",
    "plt.ylabel(\"Actual values\"   , fontdict = {'size':14}, labelpad = 10)\n",
    "plt.title (\"Confusion Matrix\", fontdict = {'size':18}, pad = 20)\n",
    "plt.show()"
   ]
  },
  {
   "cell_type": "markdown",
   "id": "e5d6cdfd",
   "metadata": {},
   "source": [
    " "
   ]
  },
  {
   "cell_type": "markdown",
   "id": "333a7c96",
   "metadata": {},
   "source": [
    "## Naive Bayes"
   ]
  },
  {
   "cell_type": "code",
   "execution_count": 51,
   "id": "0a07e875",
   "metadata": {},
   "outputs": [],
   "source": [
    "classifier_nb = Pipeline([\n",
    "    ('model', MultinomialNB()),\n",
    "])"
   ]
  },
  {
   "cell_type": "code",
   "execution_count": 52,
   "id": "f256f785",
   "metadata": {},
   "outputs": [],
   "source": [
    "param_grid_nb = {             \n",
    "               'model__alpha': (0, 1, 1e-2, 1e-3)\n",
    "}"
   ]
  },
  {
   "cell_type": "code",
   "execution_count": 53,
   "id": "27b79dcb",
   "metadata": {},
   "outputs": [],
   "source": [
    "clf_nb = GridSearchCV(classifier_nb, param_grid_nb, cv = 5, n_jobs=-1)"
   ]
  },
  {
   "cell_type": "code",
   "execution_count": 54,
   "id": "0570e587",
   "metadata": {},
   "outputs": [
    {
     "data": {
      "text/plain": [
       "dict_keys(['memory', 'steps', 'verbose', 'model', 'model__alpha', 'model__class_prior', 'model__fit_prior'])"
      ]
     },
     "execution_count": 54,
     "metadata": {},
     "output_type": "execute_result"
    }
   ],
   "source": [
    "classifier_nb.get_params().keys()"
   ]
  },
  {
   "cell_type": "code",
   "execution_count": 55,
   "id": "057d3a04",
   "metadata": {},
   "outputs": [
    {
     "data": {
      "text/plain": [
       "GridSearchCV(cv=5, estimator=Pipeline(steps=[('model', MultinomialNB())]),\n",
       "             n_jobs=-1, param_grid={'model__alpha': (0, 1, 0.01, 0.001)})"
      ]
     },
     "execution_count": 55,
     "metadata": {},
     "output_type": "execute_result"
    }
   ],
   "source": [
    "clf_nb.fit(X_train, y_train)"
   ]
  },
  {
   "cell_type": "code",
   "execution_count": 56,
   "id": "af3d772f",
   "metadata": {},
   "outputs": [
    {
     "name": "stdout",
     "output_type": "stream",
     "text": [
      "\n",
      "Best estimator:\n",
      "\n",
      "Pipeline(steps=[('model', MultinomialNB(alpha=0))])\n"
     ]
    }
   ],
   "source": [
    "print(\"\\nBest estimator:\")\n",
    "print()\n",
    "print(clf_nb.best_estimator_)"
   ]
  },
  {
   "cell_type": "code",
   "execution_count": 57,
   "id": "9393552e",
   "metadata": {},
   "outputs": [
    {
     "name": "stdout",
     "output_type": "stream",
     "text": [
      "Accuracy Training set:  0.9088319088319088\n",
      "Accuracy Test set:  0.9230769230769231\n"
     ]
    }
   ],
   "source": [
    "y_pred_nb_train = clf_nb.predict(X_train)\n",
    "accuracy_nb_train = accuracy_score(y_train, y_pred_nb_train)\n",
    "print(\"Accuracy Training set: \", accuracy_nb_train)\n",
    "\n",
    "y_pred_nb_test = clf_nb.predict(X_test)\n",
    "accuracy_nb_test = accuracy_score(y_test, y_pred_nb_test)\n",
    "print(\"Accuracy Test set: \", accuracy_nb_test)"
   ]
  },
  {
   "cell_type": "code",
   "execution_count": 58,
   "id": "d9e636e6",
   "metadata": {},
   "outputs": [
    {
     "name": "stdout",
     "output_type": "stream",
     "text": [
      "Recall Training set:  0.9088319088319088\n",
      "Recall Test set:  0.9230769230769231\n"
     ]
    }
   ],
   "source": [
    "recall_nb_train = recall_score(y_train, y_pred_nb_train, average='micro')\n",
    "print(\"Recall Training set: \", recall_nb_train)\n",
    "\n",
    "recall_nb_test = recall_score(y_test, y_pred_nb_test, average='micro')\n",
    "print(\"Recall Test set: \", recall_nb_test)"
   ]
  },
  {
   "cell_type": "code",
   "execution_count": 59,
   "id": "dc2a9364",
   "metadata": {},
   "outputs": [
    {
     "name": "stdout",
     "output_type": "stream",
     "text": [
      "Precision Training set:  0.9088319088319088\n",
      "Precision Test set:  0.9230769230769231\n"
     ]
    }
   ],
   "source": [
    "precision_nb_train = precision_score(y_train, y_pred_nb_train, average='micro')\n",
    "print(\"Precision Training set: \", precision_nb_train)\n",
    "\n",
    "precision_nb_test = precision_score(y_test, y_pred_nb_test, average='micro')\n",
    "print(\"Precision Test set: \", precision_nb_test)"
   ]
  },
  {
   "cell_type": "code",
   "execution_count": 60,
   "id": "cca72887",
   "metadata": {},
   "outputs": [
    {
     "data": {
      "image/png": "[encoded data removed]",
      "text/plain": [
       "<Figure size 360x360 with 2 Axes>"
      ]
     },
     "metadata": {},
     "output_type": "display_data"
    }
   ],
   "source": [
    "plt.figure(figsize=(5,5))\n",
    "sns.heatmap(confusion_matrix(y_test, y_pred_nb_test), annot=True, cmap = 'viridis', fmt='.0f')\n",
    "plt.xlabel(\"Predicted values\", fontdict = {'size':14}, labelpad = 10)\n",
    "plt.ylabel(\"Actual values\"   , fontdict = {'size':14}, labelpad = 10)\n",
    "plt.title (\"Confusion Matrix\", fontdict = {'size':18}, pad = 20)\n",
    "plt.show()"
   ]
  },
  {
   "cell_type": "markdown",
   "id": "48d17e40",
   "metadata": {},
   "source": [
    "# "
   ]
  },
  {
   "cell_type": "markdown",
   "id": "4483f1f5",
   "metadata": {},
   "source": [
    "## Decisoon Tree"
   ]
  },
  {
   "cell_type": "code",
   "execution_count": 61,
   "id": "e481b7fe",
   "metadata": {},
   "outputs": [],
   "source": [
    "from sklearn.tree import DecisionTreeClassifier"
   ]
  },
  {
   "cell_type": "code",
   "execution_count": 62,
   "id": "e21bff2e",
   "metadata": {},
   "outputs": [],
   "source": [
    "classifier_dt = Pipeline([\n",
    "    ('model', DecisionTreeClassifier()),\n",
    "])"
   ]
  },
  {
   "cell_type": "code",
   "execution_count": 63,
   "id": "a1086e5f",
   "metadata": {},
   "outputs": [
    {
     "data": {
      "text/plain": [
       "dict_keys(['memory', 'steps', 'verbose', 'model', 'model__ccp_alpha', 'model__class_weight', 'model__criterion', 'model__max_depth', 'model__max_features', 'model__max_leaf_nodes', 'model__min_impurity_decrease', 'model__min_impurity_split', 'model__min_samples_leaf', 'model__min_samples_split', 'model__min_weight_fraction_leaf', 'model__random_state', 'model__splitter'])"
      ]
     },
     "execution_count": 63,
     "metadata": {},
     "output_type": "execute_result"
    }
   ],
   "source": [
    "classifier_dt.get_params().keys()"
   ]
  },
  {
   "cell_type": "code",
   "execution_count": 64,
   "id": "3fc1c0e0",
   "metadata": {},
   "outputs": [],
   "source": [
    "param_grid_dt = { \n",
    "    'model__criterion': ['entropy','gini'],\n",
    "    'model__max_depth': np.arange(1,21),\n",
    "    'model__min_samples_leaf': [1, 5, 10, 20, 50, 100],\n",
    "    'model__min_samples_split': np.arange(2, 11),\n",
    "}"
   ]
  },
  {
   "cell_type": "code",
   "execution_count": 65,
   "id": "a4dac327",
   "metadata": {},
   "outputs": [],
   "source": [
    "clf_dt = GridSearchCV(estimator=classifier_dt, param_grid=param_grid_dt, cv= 5, n_jobs=-1)"
   ]
  },
  {
   "cell_type": "code",
   "execution_count": 66,
   "id": "f2da34ef",
   "metadata": {},
   "outputs": [
    {
     "data": {
      "text/plain": [
       "GridSearchCV(cv=5,\n",
       "             estimator=Pipeline(steps=[('model', DecisionTreeClassifier())]),\n",
       "             n_jobs=-1,\n",
       "             param_grid={'model__criterion': ['entropy', 'gini'],\n",
       "                         'model__max_depth': array([ 1,  2,  3,  4,  5,  6,  7,  8,  9, 10, 11, 12, 13, 14, 15, 16, 17,\n",
       "       18, 19, 20]),\n",
       "                         'model__min_samples_leaf': [1, 5, 10, 20, 50, 100],\n",
       "                         'model__min_samples_split': array([ 2,  3,  4,  5,  6,  7,  8,  9, 10])})"
      ]
     },
     "execution_count": 66,
     "metadata": {},
     "output_type": "execute_result"
    }
   ],
   "source": [
    "clf_dt.fit(X_train, y_train)"
   ]
  },
  {
   "cell_type": "code",
   "execution_count": 67,
   "id": "80314ceb",
   "metadata": {},
   "outputs": [
    {
     "name": "stdout",
     "output_type": "stream",
     "text": [
      "\n",
      "Best estimator:\n",
      "\n",
      "Pipeline(steps=[('model',\n",
      "                 DecisionTreeClassifier(criterion='entropy', max_depth=4,\n",
      "                                        min_samples_leaf=10,\n",
      "                                        min_samples_split=3))])\n"
     ]
    }
   ],
   "source": [
    "print(\"\\nBest estimator:\")\n",
    "print()\n",
    "print(clf_dt.best_estimator_)"
   ]
  },
  {
   "cell_type": "code",
   "execution_count": 68,
   "id": "d318c167",
   "metadata": {},
   "outputs": [
    {
     "name": "stdout",
     "output_type": "stream",
     "text": [
      "Accuracy Training set:  0.9458689458689459\n",
      "Accuracy Test set:  0.9487179487179487\n"
     ]
    }
   ],
   "source": [
    "y_pred_dt_train = clf_dt.predict(X_train)\n",
    "accuracy_dt_train = accuracy_score(y_train, y_pred_dt_train)\n",
    "print(\"Accuracy Training set: \", accuracy_dt_train)\n",
    "\n",
    "y_pred_dt_test = clf_dt.predict(X_test)\n",
    "accuracy_dt_test = accuracy_score(y_test, y_pred_dt_test)\n",
    "print(\"Accuracy Test set: \", accuracy_dt_test)"
   ]
  },
  {
   "cell_type": "code",
   "execution_count": 69,
   "id": "8ecc1653",
   "metadata": {},
   "outputs": [
    {
     "name": "stdout",
     "output_type": "stream",
     "text": [
      "Recall Training set:  0.9458689458689459\n",
      "Recall Test set:  0.9487179487179487\n"
     ]
    }
   ],
   "source": [
    "recall_dt_train = recall_score(y_train, y_pred_dt_train, average='micro')\n",
    "print(\"Recall Training set: \", recall_dt_train)\n",
    "\n",
    "recall_dt_test = recall_score(y_test, y_pred_dt_test, average='micro')\n",
    "print(\"Recall Test set: \", recall_dt_test)"
   ]
  },
  {
   "cell_type": "code",
   "execution_count": 70,
   "id": "5ba9eec6",
   "metadata": {},
   "outputs": [
    {
     "name": "stdout",
     "output_type": "stream",
     "text": [
      "Precision Training set:  0.9458689458689459\n",
      "Precision Test set:  0.9487179487179487\n"
     ]
    }
   ],
   "source": [
    "precision_dt_train = precision_score(y_train, y_pred_dt_train, average='micro')\n",
    "print(\"Precision Training set: \", precision_dt_train)\n",
    "\n",
    "precision_dt_test = precision_score(y_test, y_pred_dt_test, average='micro')\n",
    "print(\"Precision Test set: \", precision_dt_test)"
   ]
  },
  {
   "cell_type": "code",
   "execution_count": 71,
   "id": "c0930972",
   "metadata": {},
   "outputs": [
    {
     "data": {
      "image/png": "[encoded data removed]",
      "text/plain": [
       "<Figure size 360x360 with 2 Axes>"
      ]
     },
     "metadata": {},
     "output_type": "display_data"
    }
   ],
   "source": [
    "plt.figure(figsize=(5,5))\n",
    "sns.heatmap(confusion_matrix(y_test, y_pred_dt_test), annot=True, cmap = 'viridis', fmt='.0f')\n",
    "plt.xlabel(\"Predicted values\", fontdict = {'size':14}, labelpad = 10)\n",
    "plt.ylabel(\"Actual values\"   , fontdict = {'size':14}, labelpad = 10)\n",
    "plt.title (\"Confusion Matrix\", fontdict = {'size':18}, pad = 20)\n",
    "plt.show()"
   ]
  },
  {
   "cell_type": "markdown",
   "id": "f78d37f9",
   "metadata": {},
   "source": [
    "# "
   ]
  },
  {
   "cell_type": "markdown",
   "id": "cdf29269",
   "metadata": {},
   "source": [
    "## SGD Classifier"
   ]
  },
  {
   "cell_type": "code",
   "execution_count": 72,
   "id": "257f3655",
   "metadata": {},
   "outputs": [],
   "source": [
    "from sklearn.linear_model import SGDClassifier"
   ]
  },
  {
   "cell_type": "code",
   "execution_count": 73,
   "id": "fcce3ef7",
   "metadata": {},
   "outputs": [],
   "source": [
    "classifier_sgd = Pipeline([\n",
    "    ('model', SGDClassifier()),\n",
    "])"
   ]
  },
  {
   "cell_type": "code",
   "execution_count": 74,
   "id": "5f11fb99",
   "metadata": {},
   "outputs": [
    {
     "data": {
      "text/plain": [
       "dict_keys(['memory', 'steps', 'verbose', 'model', 'model__alpha', 'model__average', 'model__class_weight', 'model__early_stopping', 'model__epsilon', 'model__eta0', 'model__fit_intercept', 'model__l1_ratio', 'model__learning_rate', 'model__loss', 'model__max_iter', 'model__n_iter_no_change', 'model__n_jobs', 'model__penalty', 'model__power_t', 'model__random_state', 'model__shuffle', 'model__tol', 'model__validation_fraction', 'model__verbose', 'model__warm_start'])"
      ]
     },
     "execution_count": 74,
     "metadata": {},
     "output_type": "execute_result"
    }
   ],
   "source": [
    "classifier_sgd.get_params().keys()"
   ]
  },
  {
   "cell_type": "code",
   "execution_count": 75,
   "id": "acd02354",
   "metadata": {},
   "outputs": [],
   "source": [
    "param_grid_sgd = { \n",
    "    'model__loss': ['log'],\n",
    "    'model__penalty': ['elasticnet'],\n",
    "    'model__alpha': [10 ** x for x in range(-6, 1)],\n",
    "    'model__l1_ratio': [0, 0.05, 0.1, 0.2, 0.5, 0.8, 0.9, 0.95, 1]\n",
    "}"
   ]
  },
  {
   "cell_type": "code",
   "execution_count": 76,
   "id": "23b3f507",
   "metadata": {},
   "outputs": [],
   "source": [
    "clf_sgd = GridSearchCV(estimator=classifier_sgd, param_grid=param_grid_sgd, cv= 5, n_jobs=-1)"
   ]
  },
  {
   "cell_type": "code",
   "execution_count": 77,
   "id": "01d376f7",
   "metadata": {},
   "outputs": [
    {
     "data": {
      "text/plain": [
       "GridSearchCV(cv=5, estimator=Pipeline(steps=[('model', SGDClassifier())]),\n",
       "             n_jobs=-1,\n",
       "             param_grid={'model__alpha': [1e-06, 1e-05, 0.0001, 0.001, 0.01,\n",
       "                                          0.1, 1],\n",
       "                         'model__l1_ratio': [0, 0.05, 0.1, 0.2, 0.5, 0.8, 0.9,\n",
       "                                             0.95, 1],\n",
       "                         'model__loss': ['log'],\n",
       "                         'model__penalty': ['elasticnet']})"
      ]
     },
     "execution_count": 77,
     "metadata": {},
     "output_type": "execute_result"
    }
   ],
   "source": [
    "clf_sgd.fit(X_train, y_train)"
   ]
  },
  {
   "cell_type": "code",
   "execution_count": 78,
   "id": "d1c83e68",
   "metadata": {},
   "outputs": [
    {
     "name": "stdout",
     "output_type": "stream",
     "text": [
      "\n",
      "Best estimator:\n",
      "\n",
      "Pipeline(steps=[('model',\n",
      "                 SGDClassifier(alpha=0.1, l1_ratio=0.1, loss='log',\n",
      "                               penalty='elasticnet'))])\n"
     ]
    }
   ],
   "source": [
    "print(\"\\nBest estimator:\")\n",
    "print()\n",
    "print(clf_sgd.best_estimator_)"
   ]
  },
  {
   "cell_type": "code",
   "execution_count": 79,
   "id": "db4db6fd",
   "metadata": {},
   "outputs": [
    {
     "name": "stdout",
     "output_type": "stream",
     "text": [
      "Accuracy Training set:  0.9145299145299145\n",
      "Accuracy Test set:  0.9487179487179487\n"
     ]
    }
   ],
   "source": [
    "y_pred_sgd_train = clf_sgd.predict(X_train)\n",
    "accuracy_sgd_train = accuracy_score(y_train, y_pred_sgd_train)\n",
    "print(\"Accuracy Training set: \", accuracy_sgd_train)\n",
    "\n",
    "y_pred_sgd_test = clf_sgd.predict(X_test)\n",
    "accuracy_sgd_test = accuracy_score(y_test, y_pred_sgd_test)\n",
    "print(\"Accuracy Test set: \", accuracy_sgd_test)"
   ]
  },
  {
   "cell_type": "code",
   "execution_count": 80,
   "id": "f86d8173",
   "metadata": {},
   "outputs": [
    {
     "name": "stdout",
     "output_type": "stream",
     "text": [
      "Recall Training set:  0.9145299145299145\n",
      "Recall Test set:  0.9487179487179487\n"
     ]
    }
   ],
   "source": [
    "recall_sgd_train = recall_score(y_train, y_pred_sgd_train, average='micro')\n",
    "print(\"Recall Training set: \", recall_sgd_train)\n",
    "\n",
    "recall_sgd_test = recall_score(y_test, y_pred_sgd_test, average='micro')\n",
    "print(\"Recall Test set: \", recall_sgd_test)"
   ]
  },
  {
   "cell_type": "code",
   "execution_count": 81,
   "id": "b8295d8a",
   "metadata": {},
   "outputs": [
    {
     "name": "stdout",
     "output_type": "stream",
     "text": [
      "Precision Training set:  0.9145299145299145\n",
      "Precision Test set:  0.9487179487179487\n"
     ]
    }
   ],
   "source": [
    "precision_sgd_train = precision_score(y_train, y_pred_sgd_train, average='micro')\n",
    "print(\"Precision Training set: \", precision_sgd_train)\n",
    "\n",
    "precision_sgd_test = precision_score(y_test, y_pred_sgd_test, average='micro')\n",
    "print(\"Precision Test set: \", precision_sgd_test)"
   ]
  },
  {
   "cell_type": "code",
   "execution_count": 82,
   "id": "d900e106",
   "metadata": {},
   "outputs": [
    {
     "data": {
      "image/png": "[encoded data removed]",
      "text/plain": [
       "<Figure size 360x360 with 2 Axes>"
      ]
     },
     "metadata": {},
     "output_type": "display_data"
    }
   ],
   "source": [
    "plt.figure(figsize=(5,5))\n",
    "sns.heatmap(confusion_matrix(y_test, y_pred_sgd_test), annot=True, cmap = 'viridis', fmt='.0f')\n",
    "plt.xlabel(\"Predicted values\", fontdict = {'size':14}, labelpad = 10)\n",
    "plt.ylabel(\"Actual values\"   , fontdict = {'size':14}, labelpad = 10)\n",
    "plt.title (\"Confusion Matrix\", fontdict = {'size':18}, pad = 20)\n",
    "plt.show()"
   ]
  },
  {
   "cell_type": "markdown",
   "id": "492786e5",
   "metadata": {},
   "source": [
    "# "
   ]
  },
  {
   "cell_type": "markdown",
   "id": "2ef1f82b",
   "metadata": {},
   "source": [
    "## Logistic Regression"
   ]
  },
  {
   "cell_type": "code",
   "execution_count": 83,
   "id": "14b70ca2",
   "metadata": {},
   "outputs": [],
   "source": [
    "from sklearn.linear_model import LogisticRegression"
   ]
  },
  {
   "cell_type": "code",
   "execution_count": 84,
   "id": "a025679b",
   "metadata": {},
   "outputs": [],
   "source": [
    "classifier_lr = Pipeline([\n",
    "    ('model', LogisticRegression()),\n",
    "])"
   ]
  },
  {
   "cell_type": "code",
   "execution_count": 85,
   "id": "75317e71",
   "metadata": {},
   "outputs": [
    {
     "data": {
      "text/plain": [
       "dict_keys(['memory', 'steps', 'verbose', 'model', 'model__C', 'model__class_weight', 'model__dual', 'model__fit_intercept', 'model__intercept_scaling', 'model__l1_ratio', 'model__max_iter', 'model__multi_class', 'model__n_jobs', 'model__penalty', 'model__random_state', 'model__solver', 'model__tol', 'model__verbose', 'model__warm_start'])"
      ]
     },
     "execution_count": 85,
     "metadata": {},
     "output_type": "execute_result"
    }
   ],
   "source": [
    "classifier_lr.get_params().keys()"
   ]
  },
  {
   "cell_type": "code",
   "execution_count": 86,
   "id": "f0204d32",
   "metadata": {},
   "outputs": [],
   "source": [
    "param_grid_lr = {\n",
    "               'model__solver': ['newton-cg', 'lbfgs','sag', 'saga'],\n",
    "               'model__C':[0.5,1,1.5,2,2.5],\n",
    "               'model__class_weight':[None,'balanced'],\n",
    "               'model__max_iter':[1000,2000,3000],\n",
    "               'model__penalty':['l1','l2']\n",
    "}"
   ]
  },
  {
   "cell_type": "code",
   "execution_count": 87,
   "id": "2f146481",
   "metadata": {},
   "outputs": [],
   "source": [
    "clf_lr = GridSearchCV(estimator=classifier_lr, param_grid=param_grid_lr, cv= 5, n_jobs=-1)"
   ]
  },
  {
   "cell_type": "code",
   "execution_count": 88,
   "id": "b9749e33",
   "metadata": {},
   "outputs": [
    {
     "data": {
      "text/plain": [
       "GridSearchCV(cv=5, estimator=Pipeline(steps=[('model', LogisticRegression())]),\n",
       "             n_jobs=-1,\n",
       "             param_grid={'model__C': [0.5, 1, 1.5, 2, 2.5],\n",
       "                         'model__class_weight': [None, 'balanced'],\n",
       "                         'model__max_iter': [1000, 2000, 3000],\n",
       "                         'model__penalty': ['l1', 'l2'],\n",
       "                         'model__solver': ['newton-cg', 'lbfgs', 'sag',\n",
       "                                           'saga']})"
      ]
     },
     "execution_count": 88,
     "metadata": {},
     "output_type": "execute_result"
    }
   ],
   "source": [
    "clf_lr.fit(X_train, y_train)"
   ]
  },
  {
   "cell_type": "code",
   "execution_count": 89,
   "id": "c92265ca",
   "metadata": {},
   "outputs": [
    {
     "name": "stdout",
     "output_type": "stream",
     "text": [
      "\n",
      "Best estimator:\n",
      "\n",
      "Pipeline(steps=[('model',\n",
      "                 LogisticRegression(C=0.5, max_iter=1000, penalty='l1',\n",
      "                                    solver='saga'))])\n"
     ]
    }
   ],
   "source": [
    "print(\"\\nBest estimator:\")\n",
    "print()\n",
    "print(clf_lr.best_estimator_)"
   ]
  },
  {
   "cell_type": "code",
   "execution_count": 90,
   "id": "3c5ee411",
   "metadata": {},
   "outputs": [
    {
     "name": "stdout",
     "output_type": "stream",
     "text": [
      "Accuracy Training set:  0.9116809116809117\n",
      "Accuracy Test set:  0.9230769230769231\n"
     ]
    }
   ],
   "source": [
    "y_pred_lr_train = clf_lr.predict(X_train)\n",
    "accuracy_lr_train = accuracy_score(y_train, y_pred_lr_train)\n",
    "print(\"Accuracy Training set: \", accuracy_lr_train)\n",
    "\n",
    "y_pred_lr_test = clf_lr.predict(X_test)\n",
    "accuracy_lr_test = accuracy_score(y_test, y_pred_lr_test)\n",
    "print(\"Accuracy Test set: \", accuracy_lr_test)"
   ]
  },
  {
   "cell_type": "code",
   "execution_count": 91,
   "id": "b7715052",
   "metadata": {},
   "outputs": [
    {
     "name": "stdout",
     "output_type": "stream",
     "text": [
      "Recall Training set:  0.9116809116809117\n",
      "Recall Test set:  0.9230769230769231\n"
     ]
    }
   ],
   "source": [
    "recall_lr_train = recall_score(y_train, y_pred_lr_train, average='micro')\n",
    "print(\"Recall Training set: \", recall_lr_train)\n",
    "\n",
    "recall_lr_test = recall_score(y_test, y_pred_lr_test, average='micro')\n",
    "print(\"Recall Test set: \", recall_lr_test)"
   ]
  },
  {
   "cell_type": "code",
   "execution_count": 92,
   "id": "969214b9",
   "metadata": {},
   "outputs": [
    {
     "name": "stdout",
     "output_type": "stream",
     "text": [
      "Precision Training set:  0.9116809116809117\n",
      "Precision Test set:  0.9230769230769231\n"
     ]
    }
   ],
   "source": [
    "precision_lr_train = precision_score(y_train, y_pred_lr_train, average='micro')\n",
    "print(\"Precision Training set: \", precision_lr_train)\n",
    "\n",
    "precision_lr_test = precision_score(y_test, y_pred_lr_test, average='micro')\n",
    "print(\"Precision Test set: \", precision_lr_test)"
   ]
  },
  {
   "cell_type": "code",
   "execution_count": 93,
   "id": "f7a9eb96",
   "metadata": {},
   "outputs": [
    {
     "data": {
      "image/png": "[encoded data removed]",
      "text/plain": [
       "<Figure size 360x360 with 2 Axes>"
      ]
     },
     "metadata": {},
     "output_type": "display_data"
    }
   ],
   "source": [
    "plt.figure(figsize=(5,5))\n",
    "sns.heatmap(confusion_matrix(y_test, y_pred_lr_test), annot=True, cmap = 'viridis', fmt='.0f')\n",
    "plt.xlabel(\"Predicted values\", fontdict = {'size':14}, labelpad = 10)\n",
    "plt.ylabel(\"Actual values\"   , fontdict = {'size':14}, labelpad = 10)\n",
    "plt.title (\"Confusion Matrix\", fontdict = {'size':18}, pad = 20)\n",
    "plt.show()"
   ]
  },
  {
   "cell_type": "markdown",
   "id": "c39dcd35",
   "metadata": {},
   "source": [
    "# "
   ]
  },
  {
   "cell_type": "markdown",
   "id": "51506c68",
   "metadata": {},
   "source": [
    "# "
   ]
  },
  {
   "cell_type": "code",
   "execution_count": 94,
   "id": "ab0ea6f5",
   "metadata": {},
   "outputs": [],
   "source": [
    "models = [\n",
    "          ('Decision Tree', accuracy_dt_train, accuracy_dt_test),\n",
    "          ('Naive Bayes Multinomial', accuracy_nb_train, accuracy_nb_test),\n",
    "          ('K-Nearest Neighbors', accuracy_knn_train, accuracy_knn_test),\n",
    "          ('SGD Classifier', accuracy_sgd_train, accuracy_sgd_test),\n",
    "          ('Logistic Regression', accuracy_lr_train, accuracy_lr_test)\n",
    "         ]"
   ]
  },
  {
   "cell_type": "code",
   "execution_count": 95,
   "id": "49f548be",
   "metadata": {},
   "outputs": [
    {
     "data": {
      "text/html": [
       "<div>\n",
       "<style scoped>\n",
       "    .dataframe tbody tr th:only-of-type {\n",
       "        vertical-align: middle;\n",
       "    }\n",
       "\n",
       "    .dataframe tbody tr th {\n",
       "        vertical-align: top;\n",
       "    }\n",
       "\n",
       "    .dataframe thead th {\n",
       "        text-align: right;\n",
       "    }\n",
       "</style>\n",
       "<table border=\"1\" class=\"dataframe\">\n",
       "  <thead>\n",
       "    <tr style=\"text-align: right;\">\n",
       "      <th></th>\n",
       "      <th>Model</th>\n",
       "      <th>Training Accuracy</th>\n",
       "      <th>Test Accuracy</th>\n",
       "    </tr>\n",
       "  </thead>\n",
       "  <tbody>\n",
       "    <tr>\n",
       "      <th>0</th>\n",
       "      <td>Decision Tree</td>\n",
       "      <td>0.945869</td>\n",
       "      <td>0.948718</td>\n",
       "    </tr>\n",
       "    <tr>\n",
       "      <th>1</th>\n",
       "      <td>Naive Bayes Multinomial</td>\n",
       "      <td>0.908832</td>\n",
       "      <td>0.923077</td>\n",
       "    </tr>\n",
       "    <tr>\n",
       "      <th>2</th>\n",
       "      <td>K-Nearest Neighbors</td>\n",
       "      <td>0.934473</td>\n",
       "      <td>0.897436</td>\n",
       "    </tr>\n",
       "    <tr>\n",
       "      <th>3</th>\n",
       "      <td>SGD Classifier</td>\n",
       "      <td>0.914530</td>\n",
       "      <td>0.948718</td>\n",
       "    </tr>\n",
       "    <tr>\n",
       "      <th>4</th>\n",
       "      <td>Logistic Regression</td>\n",
       "      <td>0.911681</td>\n",
       "      <td>0.923077</td>\n",
       "    </tr>\n",
       "  </tbody>\n",
       "</table>\n",
       "</div>"
      ],
      "text/plain": [
       "                     Model  Training Accuracy  Test Accuracy\n",
       "0            Decision Tree           0.945869       0.948718\n",
       "1  Naive Bayes Multinomial           0.908832       0.923077\n",
       "2      K-Nearest Neighbors           0.934473       0.897436\n",
       "3           SGD Classifier           0.914530       0.948718\n",
       "4      Logistic Regression           0.911681       0.923077"
      ]
     },
     "execution_count": 95,
     "metadata": {},
     "output_type": "execute_result"
    }
   ],
   "source": [
    "predict = pd.DataFrame(data = models, columns=['Model', 'Training Accuracy', 'Test Accuracy'])\n",
    "predict"
   ]
  },
  {
   "cell_type": "code",
   "execution_count": 96,
   "id": "43499054",
   "metadata": {},
   "outputs": [],
   "source": [
    "models_comparison = [\n",
    "                        ('Decision Tree', accuracy_dt_test, recall_dt_test, precision_dt_test), \n",
    "                        ('Naive Bayes Multinomial', accuracy_nb_test, recall_nb_test, precision_nb_test),\n",
    "                        ('K-Nearest Neighbors', accuracy_knn_test, recall_knn_test, precision_knn_test),\n",
    "                        ('SGD Classifier', accuracy_sgd_test, recall_sgd_test, precision_sgd_test),\n",
    "                        ('Logistic Regression', accuracy_lr_test, recall_lr_test, precision_lr_test)\n",
    "                    ]"
   ]
  },
  {
   "cell_type": "code",
   "execution_count": 97,
   "id": "e4c5f547",
   "metadata": {},
   "outputs": [
    {
     "data": {
      "text/html": [
       "<div>\n",
       "<style scoped>\n",
       "    .dataframe tbody tr th:only-of-type {\n",
       "        vertical-align: middle;\n",
       "    }\n",
       "\n",
       "    .dataframe tbody tr th {\n",
       "        vertical-align: top;\n",
       "    }\n",
       "\n",
       "    .dataframe thead th {\n",
       "        text-align: right;\n",
       "    }\n",
       "</style>\n",
       "<table border=\"1\" class=\"dataframe\">\n",
       "  <thead>\n",
       "    <tr style=\"text-align: right;\">\n",
       "      <th></th>\n",
       "      <th>Model</th>\n",
       "      <th>Accuracy</th>\n",
       "      <th>Recall</th>\n",
       "      <th>Precision</th>\n",
       "    </tr>\n",
       "  </thead>\n",
       "  <tbody>\n",
       "    <tr>\n",
       "      <th>0</th>\n",
       "      <td>Decision Tree</td>\n",
       "      <td>0.948718</td>\n",
       "      <td>0.948718</td>\n",
       "      <td>0.948718</td>\n",
       "    </tr>\n",
       "    <tr>\n",
       "      <th>1</th>\n",
       "      <td>Naive Bayes Multinomial</td>\n",
       "      <td>0.923077</td>\n",
       "      <td>0.923077</td>\n",
       "      <td>0.923077</td>\n",
       "    </tr>\n",
       "    <tr>\n",
       "      <th>2</th>\n",
       "      <td>K-Nearest Neighbors</td>\n",
       "      <td>0.897436</td>\n",
       "      <td>0.897436</td>\n",
       "      <td>0.897436</td>\n",
       "    </tr>\n",
       "    <tr>\n",
       "      <th>3</th>\n",
       "      <td>SGD Classifier</td>\n",
       "      <td>0.948718</td>\n",
       "      <td>0.948718</td>\n",
       "      <td>0.948718</td>\n",
       "    </tr>\n",
       "    <tr>\n",
       "      <th>4</th>\n",
       "      <td>Logistic Regression</td>\n",
       "      <td>0.923077</td>\n",
       "      <td>0.923077</td>\n",
       "      <td>0.923077</td>\n",
       "    </tr>\n",
       "  </tbody>\n",
       "</table>\n",
       "</div>"
      ],
      "text/plain": [
       "                     Model  Accuracy    Recall  Precision\n",
       "0            Decision Tree  0.948718  0.948718   0.948718\n",
       "1  Naive Bayes Multinomial  0.923077  0.923077   0.923077\n",
       "2      K-Nearest Neighbors  0.897436  0.897436   0.897436\n",
       "3           SGD Classifier  0.948718  0.948718   0.948718\n",
       "4      Logistic Regression  0.923077  0.923077   0.923077"
      ]
     },
     "execution_count": 97,
     "metadata": {},
     "output_type": "execute_result"
    }
   ],
   "source": [
    "comparison = pd.DataFrame(data = models_comparison, columns=['Model', 'Accuracy', 'Recall', 'Precision'])\n",
    "comparison"
   ]
  },
  {
   "cell_type": "code",
   "execution_count": 98,
   "id": "3a4c8761",
   "metadata": {},
   "outputs": [
    {
     "data": {
      "image/png": "[encoded data removed]",
      "text/plain": [
       "<Figure size 1008x720 with 2 Axes>"
      ]
     },
     "metadata": {},
     "output_type": "display_data"
    }
   ],
   "source": [
    "f, axes = plt.subplots(2,1, figsize=(14,10))\n",
    "\n",
    "predict.sort_values(by=['Training Accuracy'], ascending=False, inplace=True)\n",
    "\n",
    "sns.barplot(x='Training Accuracy', y='Model', data = predict, palette='Blues_d', ax = axes[0])\n",
    "#axes[0].set(xlabel='Region', ylabel='Charges')\n",
    "axes[0].set_xlabel('Training Accuracy', size=16)\n",
    "axes[0].set_ylabel('Model')\n",
    "axes[0].set_xlim(0,1.0)\n",
    "axes[0].set_xticks(np.arange(0, 1.1, 0.1))\n",
    "\n",
    "predict.sort_values(by=['Test Accuracy'], ascending=False, inplace=True)\n",
    "\n",
    "sns.barplot(x='Test Accuracy', y='Model', data = predict, palette='Greens_d', ax = axes[1])\n",
    "#axes[0].set(xlabel='Region', ylabel='Charges')\n",
    "axes[1].set_xlabel('Test Accuracy', size=16)\n",
    "axes[1].set_ylabel('Model')\n",
    "axes[1].set_xlim(0,1.0)\n",
    "axes[1].set_xticks(np.arange(0, 1.1, 0.1))\n",
    "\n",
    "plt.show()"
   ]
  },
  {
   "cell_type": "code",
   "execution_count": null,
   "id": "624fcba3",
   "metadata": {},
   "outputs": [],
   "source": []
  }
 ],
 "metadata": {
  "kernelspec": {
   "display_name": "Python 3",
   "language": "python",
   "name": "python3"
  },
  "language_info": {
   "codemirror_mode": {
    "name": "ipython",
    "version": 3
   },
   "file_extension": ".py",
   "mimetype": "text/x-python",
   "name": "python",
   "nbconvert_exporter": "python",
   "pygments_lexer": "ipython3",
   "version": "3.8.8"
  }
 },
 "nbformat": 4,
 "nbformat_minor": 5
}
